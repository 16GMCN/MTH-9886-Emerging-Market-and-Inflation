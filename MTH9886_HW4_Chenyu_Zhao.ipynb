{
 "cells": [
  {
   "cell_type": "markdown",
   "metadata": {},
   "source": [
    "## Emerging Market and Inflation HW4\n",
    "\n",
    "### Chenyu Zhao"
   ]
  },
  {
   "cell_type": "markdown",
   "metadata": {},
   "source": [
    "## Q1 Compare pricing of the 18m USD-BRL off-shore NDF via 3 approaches using market data provided"
   ]
  },
  {
   "cell_type": "code",
   "execution_count": 22,
   "metadata": {
    "ExecuteTime": {
     "end_time": "2019-11-21T14:37:42.270046Z",
     "start_time": "2019-11-21T14:37:42.255725Z"
    }
   },
   "outputs": [],
   "source": [
    "import numpy as np\n",
    "\n",
    "spot = 3.75\n",
    "multiplier = 10000\n",
    "tenor = np.array([1, 2])\n",
    "fwdpoints = np.array([4400,9050])/10000\n",
    "Z_USD_offshr = np.array([0.9935,0.981])\n",
    "convert_rate = np.array([0.96,0.4])/100"
   ]
  },
  {
   "cell_type": "code",
   "execution_count": 23,
   "metadata": {
    "ExecuteTime": {
     "end_time": "2019-11-21T14:37:42.676927Z",
     "start_time": "2019-11-21T14:37:42.664301Z"
    }
   },
   "outputs": [],
   "source": [
    "BRL_252 = np.array([15.33,15.43])/100\n",
    "USD_linear = np.array([4.03,4.02])/100\n",
    "Busdays = np.array([341,402,375])\n",
    "Actualdays = np.array([495,586,547])"
   ]
  },
  {
   "cell_type": "code",
   "execution_count": 24,
   "metadata": {
    "ExecuteTime": {
     "end_time": "2019-11-21T14:37:42.989988Z",
     "start_time": "2019-11-21T14:37:42.979261Z"
    }
   },
   "outputs": [
    {
     "name": "stdout",
     "output_type": "stream",
     "text": [
      "4.455714285714286\n"
     ]
    }
   ],
   "source": [
    "## Approach 1\n",
    "\n",
    "FX = spot + fwdpoints\n",
    "slope = (FX[1]-FX[0])/(Actualdays[1]-Actualdays[0])\n",
    "\n",
    "res = slope*(Actualdays[2]-Actualdays[0])+FX[0]\n",
    "print(res)"
   ]
  },
  {
   "cell_type": "code",
   "execution_count": 33,
   "metadata": {
    "ExecuteTime": {
     "end_time": "2019-11-21T14:42:34.898587Z",
     "start_time": "2019-11-21T14:42:34.887557Z"
    }
   },
   "outputs": [
    {
     "name": "stdout",
     "output_type": "stream",
     "text": [
      "4.417523518987224\n"
     ]
    }
   ],
   "source": [
    "## Approach 2\n",
    "\n",
    "USD_offshr = -np.log(Z_USD_offshr)/Actualdays[:-1]*365\n",
    "res_usd_rate = (USD_offshr[1]-USD_offshr[0])/(Actualdays[1]-Actualdays[0])*(Actualdays[2]-Actualdays[0])+USD_offshr[0]\n",
    "\n",
    "Z_BRL_onshr = (1+BRL_252)**(-Busdays[:-1]/252)\n",
    "Z_USD_onshr = (1+USD_linear*Actualdays[:-1]/360)**-1\n",
    "convert = 1+convert_rate*Actualdays[:-1]/360\n",
    "Z_BRL_offshr = Z_BRL_onshr*Z_USD_offshr/Z_USD_onshr/convert\n",
    "BRL_offshr = -np.log(Z_BRL_offshr)/Actualdays[:-1]*365\n",
    "res_brl_rate = (BRL_offshr[1]-BRL_offshr[0])/(Actualdays[1]-Actualdays[0])*(Actualdays[2]-Actualdays[0])+BRL_offshr[0]\n",
    "\n",
    "res_Z_usd = np.exp(-res_usd_rate*Actualdays[-1]/365)\n",
    "res_Z_brl = np.exp(-res_brl_rate*Actualdays[-1]/365)\n",
    "res = spot*res_Z_usd/res_Z_brl\n",
    "print(res)"
   ]
  },
  {
   "cell_type": "code",
   "execution_count": 62,
   "metadata": {
    "ExecuteTime": {
     "end_time": "2019-11-21T15:01:59.335850Z",
     "start_time": "2019-11-21T15:01:59.323861Z"
    }
   },
   "outputs": [
    {
     "name": "stdout",
     "output_type": "stream",
     "text": [
      "4.415393193371686\n"
     ]
    }
   ],
   "source": [
    "## Approach 3\n",
    "\n",
    "res_usd_offshr_rate = (USD_offshr[1]-USD_offshr[0])/(Actualdays[1]-Actualdays[0])*(Actualdays[2]-Actualdays[0])+USD_offshr[0]\n",
    "res_usd_onshr_rate = (USD_linear[1]-USD_linear[0])/(USD_offshr[1]-USD_offshr[0])*(res_usd_offshr_rate-USD_offshr[0])+USD_linear[0]\n",
    "res_convert_rate = (convert_rate[1]-convert_rate[0])/(USD_offshr[1]-USD_offshr[0])*(res_usd_offshr_rate-USD_offshr[0])+convert_rate[0]\n",
    "\n",
    "PU = 100000/(1+BRL_252)**(Busdays[:-1]/252)\n",
    "f_CDI = (PU[0]/PU[1])**(252/(Busdays[1]-Busdays[0]))-1\n",
    "res_PU = PU[0]/(1+f_CDI)**((Busdays[2]-Busdays[0])/252)\n",
    "\n",
    "res_Z_usd_offshr = np.exp(-res_usd_offshr_rate*Actualdays[-1]/365)\n",
    "res_convert = 1+res_convert_rate*(Actualdays[-1]/360)\n",
    "res_Z_brl_onshr = res_PU/100000\n",
    "res_Z_usd_onshr = 1/(1+res_usd_onshr_rate*Actualdays[-1]/360)\n",
    "res_Z_brl_offshr = res_Z_brl_onshr/res_convert/res_Z_usd_onshr*res_Z_usd_offshr\n",
    "\n",
    "res = spot*res_Z_usd_offshr/res_Z_brl_offshr\n",
    "print(res)"
   ]
  },
  {
   "cell_type": "markdown",
   "metadata": {},
   "source": [
    "## Q2 More economics than math, but suggest effects of upfront fees and minimum tenor requirements as yet another measures of capital control on on-shore USD rates in Brazil"
   ]
  },
  {
   "cell_type": "markdown",
   "metadata": {},
   "source": [
    "When there is upfront fee, we have \n",
    "\n",
    "$$\n",
    "(r_$^\\text{off shr}+s)\\cdot \\tau=(1-\\text{fee rate})\\frac{(1+r_$^\\text{on shr})^\\tau}{1+\\hat e_t}-1\n",
    "$$\n",
    "\n",
    "and when there is minimum tenor, we have \n",
    "\n",
    "$$\n",
    "(r_$^\\text{off shr}+s)\\cdot \\max(\\tau,\\tau_\\min)=\\frac{(1+r_$^\\text{on shr})^{\\max(\\tau,\\tau_\\min)}}{1+\\hat e_t}-1\n",
    "$$"
   ]
  },
  {
   "cell_type": "markdown",
   "metadata": {},
   "source": [
    "## Q3 Estimate level of Percentage CDI Swap convexity adjustment for ranges of κ, σ and T. Suggest validity limits where convexity could be safely ignored and where it should be accounted."
   ]
  },
  {
   "cell_type": "markdown",
   "metadata": {},
   "source": [
    "according to the lecture,\n",
    "\n",
    "$$\n",
    "\\text{Cxty}=\\exp{(-\\frac16\\kappa(1-\\kappa)\\sigma^2T^3)}\n",
    "$$"
   ]
  },
  {
   "cell_type": "code",
   "execution_count": 83,
   "metadata": {
    "ExecuteTime": {
     "end_time": "2019-11-21T16:39:42.792841Z",
     "start_time": "2019-11-21T16:39:42.785451Z"
    }
   },
   "outputs": [],
   "source": [
    "def Cxty(k,sigma,T):\n",
    "    return np.exp(-1/6*k*(1-k)*(sigma**2)*(T**3))\n",
    "\n",
    "Ts = np.arange(1,11,1)\n",
    "ks = np.arange(0.5,1.6,0.1)\n",
    "\n",
    "def Cxty_1(k,T):\n",
    "    return Cxty(k,0.1*0.15,T)\n",
    "\n",
    "def Cxty_2(k,T):\n",
    "    return Cxty(k,0.3*0.15,T)"
   ]
  },
  {
   "cell_type": "code",
   "execution_count": 92,
   "metadata": {
    "ExecuteTime": {
     "end_time": "2019-11-21T16:43:38.094723Z",
     "start_time": "2019-11-21T16:43:38.086950Z"
    }
   },
   "outputs": [],
   "source": [
    "data_1 = []\n",
    "for T in Ts:\n",
    "    temp = []\n",
    "    for k in ks:\n",
    "        temp.append(Cxty_1(k,T))\n",
    "    data_1.append(temp)\n",
    "    \n",
    "data_2 = []\n",
    "for T in Ts:\n",
    "    temp = []\n",
    "    for k in ks:\n",
    "        temp.append(Cxty_2(k,T))\n",
    "    data_2.append(temp)\n",
    "        "
   ]
  },
  {
   "cell_type": "code",
   "execution_count": 93,
   "metadata": {
    "ExecuteTime": {
     "end_time": "2019-11-21T16:43:39.068233Z",
     "start_time": "2019-11-21T16:43:39.051337Z"
    }
   },
   "outputs": [],
   "source": [
    "import pandas as pd\n",
    "\n",
    "data_1 = pd.DataFrame(data_1,index=Ts,columns=ks)\n",
    "data_2 = pd.DataFrame(data_2,index=Ts,columns=ks)"
   ]
  },
  {
   "cell_type": "code",
   "execution_count": 94,
   "metadata": {
    "ExecuteTime": {
     "end_time": "2019-11-21T16:43:39.539084Z",
     "start_time": "2019-11-21T16:43:39.517487Z"
    }
   },
   "outputs": [
    {
     "data": {
      "text/html": [
       "<div>\n",
       "<style scoped>\n",
       "    .dataframe tbody tr th:only-of-type {\n",
       "        vertical-align: middle;\n",
       "    }\n",
       "\n",
       "    .dataframe tbody tr th {\n",
       "        vertical-align: top;\n",
       "    }\n",
       "\n",
       "    .dataframe thead th {\n",
       "        text-align: right;\n",
       "    }\n",
       "</style>\n",
       "<table border=\"1\" class=\"dataframe\">\n",
       "  <thead>\n",
       "    <tr style=\"text-align: right;\">\n",
       "      <th></th>\n",
       "      <th>0.5</th>\n",
       "      <th>0.6</th>\n",
       "      <th>0.7</th>\n",
       "      <th>0.8</th>\n",
       "      <th>0.9</th>\n",
       "      <th>1.0</th>\n",
       "      <th>1.1</th>\n",
       "      <th>1.2</th>\n",
       "      <th>1.3</th>\n",
       "      <th>1.4</th>\n",
       "      <th>1.5</th>\n",
       "    </tr>\n",
       "  </thead>\n",
       "  <tbody>\n",
       "    <tr>\n",
       "      <td>1</td>\n",
       "      <td>0.999991</td>\n",
       "      <td>0.999991</td>\n",
       "      <td>0.999992</td>\n",
       "      <td>0.999994</td>\n",
       "      <td>0.999997</td>\n",
       "      <td>1.0</td>\n",
       "      <td>1.000004</td>\n",
       "      <td>1.000009</td>\n",
       "      <td>1.000015</td>\n",
       "      <td>1.000021</td>\n",
       "      <td>1.000028</td>\n",
       "    </tr>\n",
       "    <tr>\n",
       "      <td>2</td>\n",
       "      <td>0.999925</td>\n",
       "      <td>0.999928</td>\n",
       "      <td>0.999937</td>\n",
       "      <td>0.999952</td>\n",
       "      <td>0.999973</td>\n",
       "      <td>1.0</td>\n",
       "      <td>1.000033</td>\n",
       "      <td>1.000072</td>\n",
       "      <td>1.000117</td>\n",
       "      <td>1.000168</td>\n",
       "      <td>1.000225</td>\n",
       "    </tr>\n",
       "    <tr>\n",
       "      <td>3</td>\n",
       "      <td>0.999747</td>\n",
       "      <td>0.999757</td>\n",
       "      <td>0.999787</td>\n",
       "      <td>0.999838</td>\n",
       "      <td>0.999909</td>\n",
       "      <td>1.0</td>\n",
       "      <td>1.000111</td>\n",
       "      <td>1.000243</td>\n",
       "      <td>1.000395</td>\n",
       "      <td>1.000567</td>\n",
       "      <td>1.000760</td>\n",
       "    </tr>\n",
       "    <tr>\n",
       "      <td>4</td>\n",
       "      <td>0.999400</td>\n",
       "      <td>0.999424</td>\n",
       "      <td>0.999496</td>\n",
       "      <td>0.999616</td>\n",
       "      <td>0.999784</td>\n",
       "      <td>1.0</td>\n",
       "      <td>1.000264</td>\n",
       "      <td>1.000576</td>\n",
       "      <td>1.000936</td>\n",
       "      <td>1.001345</td>\n",
       "      <td>1.001802</td>\n",
       "    </tr>\n",
       "    <tr>\n",
       "      <td>5</td>\n",
       "      <td>0.998829</td>\n",
       "      <td>0.998876</td>\n",
       "      <td>0.999016</td>\n",
       "      <td>0.999250</td>\n",
       "      <td>0.999578</td>\n",
       "      <td>1.0</td>\n",
       "      <td>1.000516</td>\n",
       "      <td>1.001126</td>\n",
       "      <td>1.001830</td>\n",
       "      <td>1.002628</td>\n",
       "      <td>1.003522</td>\n",
       "    </tr>\n",
       "    <tr>\n",
       "      <td>6</td>\n",
       "      <td>0.997977</td>\n",
       "      <td>0.998058</td>\n",
       "      <td>0.998300</td>\n",
       "      <td>0.998705</td>\n",
       "      <td>0.999271</td>\n",
       "      <td>1.0</td>\n",
       "      <td>1.000891</td>\n",
       "      <td>1.001946</td>\n",
       "      <td>1.003164</td>\n",
       "      <td>1.004546</td>\n",
       "      <td>1.006093</td>\n",
       "    </tr>\n",
       "    <tr>\n",
       "      <td>7</td>\n",
       "      <td>0.996790</td>\n",
       "      <td>0.996918</td>\n",
       "      <td>0.997303</td>\n",
       "      <td>0.997944</td>\n",
       "      <td>0.998843</td>\n",
       "      <td>1.0</td>\n",
       "      <td>1.001416</td>\n",
       "      <td>1.003092</td>\n",
       "      <td>1.005029</td>\n",
       "      <td>1.007229</td>\n",
       "      <td>1.009694</td>\n",
       "    </tr>\n",
       "    <tr>\n",
       "      <td>8</td>\n",
       "      <td>0.995212</td>\n",
       "      <td>0.995403</td>\n",
       "      <td>0.995976</td>\n",
       "      <td>0.996933</td>\n",
       "      <td>0.998273</td>\n",
       "      <td>1.0</td>\n",
       "      <td>1.002114</td>\n",
       "      <td>1.004619</td>\n",
       "      <td>1.007516</td>\n",
       "      <td>1.010810</td>\n",
       "      <td>1.014504</td>\n",
       "    </tr>\n",
       "    <tr>\n",
       "      <td>9</td>\n",
       "      <td>0.993189</td>\n",
       "      <td>0.993460</td>\n",
       "      <td>0.994276</td>\n",
       "      <td>0.995636</td>\n",
       "      <td>0.997543</td>\n",
       "      <td>1.0</td>\n",
       "      <td>1.003012</td>\n",
       "      <td>1.006583</td>\n",
       "      <td>1.010719</td>\n",
       "      <td>1.015427</td>\n",
       "      <td>1.020715</td>\n",
       "    </tr>\n",
       "    <tr>\n",
       "      <td>10</td>\n",
       "      <td>0.990669</td>\n",
       "      <td>0.991040</td>\n",
       "      <td>0.992156</td>\n",
       "      <td>0.994018</td>\n",
       "      <td>0.996631</td>\n",
       "      <td>1.0</td>\n",
       "      <td>1.004134</td>\n",
       "      <td>1.009041</td>\n",
       "      <td>1.014732</td>\n",
       "      <td>1.021222</td>\n",
       "      <td>1.028524</td>\n",
       "    </tr>\n",
       "  </tbody>\n",
       "</table>\n",
       "</div>"
      ],
      "text/plain": [
       "         0.5       0.6       0.7       0.8       0.9  1.0       1.1       1.2  \\\n",
       "1   0.999991  0.999991  0.999992  0.999994  0.999997  1.0  1.000004  1.000009   \n",
       "2   0.999925  0.999928  0.999937  0.999952  0.999973  1.0  1.000033  1.000072   \n",
       "3   0.999747  0.999757  0.999787  0.999838  0.999909  1.0  1.000111  1.000243   \n",
       "4   0.999400  0.999424  0.999496  0.999616  0.999784  1.0  1.000264  1.000576   \n",
       "5   0.998829  0.998876  0.999016  0.999250  0.999578  1.0  1.000516  1.001126   \n",
       "6   0.997977  0.998058  0.998300  0.998705  0.999271  1.0  1.000891  1.001946   \n",
       "7   0.996790  0.996918  0.997303  0.997944  0.998843  1.0  1.001416  1.003092   \n",
       "8   0.995212  0.995403  0.995976  0.996933  0.998273  1.0  1.002114  1.004619   \n",
       "9   0.993189  0.993460  0.994276  0.995636  0.997543  1.0  1.003012  1.006583   \n",
       "10  0.990669  0.991040  0.992156  0.994018  0.996631  1.0  1.004134  1.009041   \n",
       "\n",
       "         1.3       1.4       1.5  \n",
       "1   1.000015  1.000021  1.000028  \n",
       "2   1.000117  1.000168  1.000225  \n",
       "3   1.000395  1.000567  1.000760  \n",
       "4   1.000936  1.001345  1.001802  \n",
       "5   1.001830  1.002628  1.003522  \n",
       "6   1.003164  1.004546  1.006093  \n",
       "7   1.005029  1.007229  1.009694  \n",
       "8   1.007516  1.010810  1.014504  \n",
       "9   1.010719  1.015427  1.020715  \n",
       "10  1.014732  1.021222  1.028524  "
      ]
     },
     "execution_count": 94,
     "metadata": {},
     "output_type": "execute_result"
    }
   ],
   "source": [
    "# sigma = 0.1\n",
    "data_1"
   ]
  },
  {
   "cell_type": "code",
   "execution_count": 95,
   "metadata": {
    "ExecuteTime": {
     "end_time": "2019-11-21T16:43:43.407499Z",
     "start_time": "2019-11-21T16:43:43.389348Z"
    }
   },
   "outputs": [
    {
     "data": {
      "text/html": [
       "<div>\n",
       "<style scoped>\n",
       "    .dataframe tbody tr th:only-of-type {\n",
       "        vertical-align: middle;\n",
       "    }\n",
       "\n",
       "    .dataframe tbody tr th {\n",
       "        vertical-align: top;\n",
       "    }\n",
       "\n",
       "    .dataframe thead th {\n",
       "        text-align: right;\n",
       "    }\n",
       "</style>\n",
       "<table border=\"1\" class=\"dataframe\">\n",
       "  <thead>\n",
       "    <tr style=\"text-align: right;\">\n",
       "      <th></th>\n",
       "      <th>0.5</th>\n",
       "      <th>0.6</th>\n",
       "      <th>0.7</th>\n",
       "      <th>0.8</th>\n",
       "      <th>0.9</th>\n",
       "      <th>1.0</th>\n",
       "      <th>1.1</th>\n",
       "      <th>1.2</th>\n",
       "      <th>1.3</th>\n",
       "      <th>1.4</th>\n",
       "      <th>1.5</th>\n",
       "    </tr>\n",
       "  </thead>\n",
       "  <tbody>\n",
       "    <tr>\n",
       "      <td>1</td>\n",
       "      <td>0.999916</td>\n",
       "      <td>0.999919</td>\n",
       "      <td>0.999929</td>\n",
       "      <td>0.999946</td>\n",
       "      <td>0.999970</td>\n",
       "      <td>1.0</td>\n",
       "      <td>1.000037</td>\n",
       "      <td>1.000081</td>\n",
       "      <td>1.000132</td>\n",
       "      <td>1.000189</td>\n",
       "      <td>1.000253</td>\n",
       "    </tr>\n",
       "    <tr>\n",
       "      <td>2</td>\n",
       "      <td>0.999325</td>\n",
       "      <td>0.999352</td>\n",
       "      <td>0.999433</td>\n",
       "      <td>0.999568</td>\n",
       "      <td>0.999757</td>\n",
       "      <td>1.0</td>\n",
       "      <td>1.000297</td>\n",
       "      <td>1.000648</td>\n",
       "      <td>1.001054</td>\n",
       "      <td>1.001513</td>\n",
       "      <td>1.002027</td>\n",
       "    </tr>\n",
       "    <tr>\n",
       "      <td>3</td>\n",
       "      <td>0.997724</td>\n",
       "      <td>0.997815</td>\n",
       "      <td>0.998088</td>\n",
       "      <td>0.998543</td>\n",
       "      <td>0.999180</td>\n",
       "      <td>1.0</td>\n",
       "      <td>1.001003</td>\n",
       "      <td>1.002189</td>\n",
       "      <td>1.003560</td>\n",
       "      <td>1.005116</td>\n",
       "      <td>1.006858</td>\n",
       "    </tr>\n",
       "    <tr>\n",
       "      <td>4</td>\n",
       "      <td>0.994615</td>\n",
       "      <td>0.994829</td>\n",
       "      <td>0.995474</td>\n",
       "      <td>0.996550</td>\n",
       "      <td>0.998058</td>\n",
       "      <td>1.0</td>\n",
       "      <td>1.002379</td>\n",
       "      <td>1.005197</td>\n",
       "      <td>1.008460</td>\n",
       "      <td>1.012169</td>\n",
       "      <td>1.016332</td>\n",
       "    </tr>\n",
       "    <tr>\n",
       "      <td>5</td>\n",
       "      <td>0.989509</td>\n",
       "      <td>0.989926</td>\n",
       "      <td>0.991180</td>\n",
       "      <td>0.993273</td>\n",
       "      <td>0.996210</td>\n",
       "      <td>1.0</td>\n",
       "      <td>1.004651</td>\n",
       "      <td>1.010176</td>\n",
       "      <td>1.016589</td>\n",
       "      <td>1.023906</td>\n",
       "      <td>1.032147</td>\n",
       "    </tr>\n",
       "    <tr>\n",
       "      <td>6</td>\n",
       "      <td>0.981940</td>\n",
       "      <td>0.982656</td>\n",
       "      <td>0.984808</td>\n",
       "      <td>0.988404</td>\n",
       "      <td>0.993460</td>\n",
       "      <td>1.0</td>\n",
       "      <td>1.008051</td>\n",
       "      <td>1.017650</td>\n",
       "      <td>1.028839</td>\n",
       "      <td>1.041669</td>\n",
       "      <td>1.056197</td>\n",
       "    </tr>\n",
       "    <tr>\n",
       "      <td>7</td>\n",
       "      <td>0.971474</td>\n",
       "      <td>0.972599</td>\n",
       "      <td>0.975983</td>\n",
       "      <td>0.981648</td>\n",
       "      <td>0.989635</td>\n",
       "      <td>1.0</td>\n",
       "      <td>1.012815</td>\n",
       "      <td>1.028173</td>\n",
       "      <td>1.046182</td>\n",
       "      <td>1.066974</td>\n",
       "      <td>1.090702</td>\n",
       "    </tr>\n",
       "    <tr>\n",
       "      <td>8</td>\n",
       "      <td>0.957720</td>\n",
       "      <td>0.959376</td>\n",
       "      <td>0.964363</td>\n",
       "      <td>0.972731</td>\n",
       "      <td>0.984568</td>\n",
       "      <td>1.0</td>\n",
       "      <td>1.019190</td>\n",
       "      <td>1.042344</td>\n",
       "      <td>1.069715</td>\n",
       "      <td>1.101605</td>\n",
       "      <td>1.138373</td>\n",
       "    </tr>\n",
       "    <tr>\n",
       "      <td>9</td>\n",
       "      <td>0.940344</td>\n",
       "      <td>0.942661</td>\n",
       "      <td>0.949644</td>\n",
       "      <td>0.961399</td>\n",
       "      <td>0.978100</td>\n",
       "      <td>1.0</td>\n",
       "      <td>1.027434</td>\n",
       "      <td>1.060827</td>\n",
       "      <td>1.100709</td>\n",
       "      <td>1.147724</td>\n",
       "      <td>1.202651</td>\n",
       "    </tr>\n",
       "    <tr>\n",
       "      <td>10</td>\n",
       "      <td>0.919087</td>\n",
       "      <td>0.922194</td>\n",
       "      <td>0.931578</td>\n",
       "      <td>0.947432</td>\n",
       "      <td>0.970082</td>\n",
       "      <td>1.0</td>\n",
       "      <td>1.037823</td>\n",
       "      <td>1.084371</td>\n",
       "      <td>1.140680</td>\n",
       "      <td>1.208041</td>\n",
       "      <td>1.288044</td>\n",
       "    </tr>\n",
       "  </tbody>\n",
       "</table>\n",
       "</div>"
      ],
      "text/plain": [
       "         0.5       0.6       0.7       0.8       0.9  1.0       1.1       1.2  \\\n",
       "1   0.999916  0.999919  0.999929  0.999946  0.999970  1.0  1.000037  1.000081   \n",
       "2   0.999325  0.999352  0.999433  0.999568  0.999757  1.0  1.000297  1.000648   \n",
       "3   0.997724  0.997815  0.998088  0.998543  0.999180  1.0  1.001003  1.002189   \n",
       "4   0.994615  0.994829  0.995474  0.996550  0.998058  1.0  1.002379  1.005197   \n",
       "5   0.989509  0.989926  0.991180  0.993273  0.996210  1.0  1.004651  1.010176   \n",
       "6   0.981940  0.982656  0.984808  0.988404  0.993460  1.0  1.008051  1.017650   \n",
       "7   0.971474  0.972599  0.975983  0.981648  0.989635  1.0  1.012815  1.028173   \n",
       "8   0.957720  0.959376  0.964363  0.972731  0.984568  1.0  1.019190  1.042344   \n",
       "9   0.940344  0.942661  0.949644  0.961399  0.978100  1.0  1.027434  1.060827   \n",
       "10  0.919087  0.922194  0.931578  0.947432  0.970082  1.0  1.037823  1.084371   \n",
       "\n",
       "         1.3       1.4       1.5  \n",
       "1   1.000132  1.000189  1.000253  \n",
       "2   1.001054  1.001513  1.002027  \n",
       "3   1.003560  1.005116  1.006858  \n",
       "4   1.008460  1.012169  1.016332  \n",
       "5   1.016589  1.023906  1.032147  \n",
       "6   1.028839  1.041669  1.056197  \n",
       "7   1.046182  1.066974  1.090702  \n",
       "8   1.069715  1.101605  1.138373  \n",
       "9   1.100709  1.147724  1.202651  \n",
       "10  1.140680  1.208041  1.288044  "
      ]
     },
     "execution_count": 95,
     "metadata": {},
     "output_type": "execute_result"
    }
   ],
   "source": [
    "# sigma = 0.3\n",
    "data_2"
   ]
  },
  {
   "cell_type": "markdown",
   "metadata": {},
   "source": [
    "We can see convexity adjustment is between 0.99 and 1.01 when tenor is less or equal than 3 years, which means with small tenor, convexity can be ignored"
   ]
  }
 ],
 "metadata": {
  "kernelspec": {
   "display_name": "Python 3",
   "language": "python",
   "name": "python3"
  },
  "language_info": {
   "codemirror_mode": {
    "name": "ipython",
    "version": 3
   },
   "file_extension": ".py",
   "mimetype": "text/x-python",
   "name": "python",
   "nbconvert_exporter": "python",
   "pygments_lexer": "ipython3",
   "version": "3.7.4"
  },
  "latex_envs": {
   "LaTeX_envs_menu_present": true,
   "autoclose": false,
   "autocomplete": false,
   "bibliofile": "biblio.bib",
   "cite_by": "apalike",
   "current_citInitial": 1,
   "eqLabelWithNumbers": false,
   "eqNumInitial": 1,
   "hotkeys": {
    "equation": "Ctrl-E",
    "itemize": "Ctrl-I"
   },
   "labels_anchors": false,
   "latex_user_defs": false,
   "report_style_numbering": false,
   "user_envs_cfg": false
  },
  "varInspector": {
   "cols": {
    "lenName": 16,
    "lenType": 16,
    "lenVar": 40
   },
   "kernels_config": {
    "python": {
     "delete_cmd_postfix": "",
     "delete_cmd_prefix": "del ",
     "library": "var_list.py",
     "varRefreshCmd": "print(var_dic_list())"
    },
    "r": {
     "delete_cmd_postfix": ") ",
     "delete_cmd_prefix": "rm(",
     "library": "var_list.r",
     "varRefreshCmd": "cat(var_dic_list()) "
    }
   },
   "types_to_exclude": [
    "module",
    "function",
    "builtin_function_or_method",
    "instance",
    "_Feature"
   ],
   "window_display": false
  }
 },
 "nbformat": 4,
 "nbformat_minor": 2
}
