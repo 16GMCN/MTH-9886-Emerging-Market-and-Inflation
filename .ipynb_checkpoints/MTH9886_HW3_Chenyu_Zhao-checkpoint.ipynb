{
 "cells": [
  {
   "cell_type": "markdown",
   "metadata": {},
   "source": [
    "## Emerging Market and Inflation HW3\n",
    "\n",
    "### Chenyu Zhao"
   ]
  },
  {
   "cell_type": "markdown",
   "metadata": {},
   "source": [
    "## Q1 Use market data provided and the formulae around Eq. (6) to study dependency of the asset-swap spread on observable and non-observable market parameters. Discuss a calibration approach to test parameters required. Discuss back-testing study to assess validity of the modeling approach."
   ]
  },
  {
   "cell_type": "code",
   "execution_count": 34,
   "metadata": {
    "ExecuteTime": {
     "end_time": "2019-11-18T18:33:50.541725Z",
     "start_time": "2019-11-18T18:33:48.295371Z"
    }
   },
   "outputs": [],
   "source": [
    "import numpy as np\n",
    "import pandas as pd"
   ]
  },
  {
   "cell_type": "code",
   "execution_count": 16,
   "metadata": {
    "ExecuteTime": {
     "end_time": "2019-11-18T18:27:44.126899Z",
     "start_time": "2019-11-18T18:27:44.117607Z"
    }
   },
   "outputs": [],
   "source": [
    "R = 0.25\n",
    "K = 0.7\n",
    "T = np.array([0.25, 0.5, 0.75, 1, 1.5, 2,3,4,5,6,7,8,9,10,12,15,20])\n",
    "r = np.array([0.88,0.88,0.88,0.95,1,1.1,1.9,2.8,3.4,3.8,4,4.25,4.5,5,5.5,6,6.5])/100\n",
    "P_default = np.array([0.25,0.5,0.75,1,2.1,3.3,7,12,18.75,25,30,35,40,45,52,61,73])/100"
   ]
  },
  {
   "cell_type": "code",
   "execution_count": 33,
   "metadata": {
    "ExecuteTime": {
     "end_time": "2019-11-18T18:33:31.940865Z",
     "start_time": "2019-11-18T18:33:31.923852Z"
    }
   },
   "outputs": [],
   "source": [
    "Z_wd = np.exp(-r*T)\n",
    "\n",
    "P_nondefault = 1- P_default\n",
    "P_forwarddefault = [P_default[0]]\n",
    "for i in range(1,len(P_default)):\n",
    "    P_forwarddefault.append(P_default[i]-P_default[i-1])\n",
    "P_forwarddefault = np.array(P_forwarddefault)\n",
    "\n",
    "\n",
    "Z_nd = Z_wd*(P_nondefault**(K-1))/(1+np.exp(-K)*R*P_forwarddefault/P_nondefault)"
   ]
  },
  {
   "cell_type": "code",
   "execution_count": 40,
   "metadata": {
    "ExecuteTime": {
     "end_time": "2019-11-18T18:39:30.383365Z",
     "start_time": "2019-11-18T18:39:30.379983Z"
    }
   },
   "outputs": [],
   "source": [
    "r_adj = -np.log(Z_nd)/T\n",
    "spread = r-r_adj"
   ]
  },
  {
   "cell_type": "code",
   "execution_count": 41,
   "metadata": {
    "ExecuteTime": {
     "end_time": "2019-11-18T18:39:50.631079Z",
     "start_time": "2019-11-18T18:39:50.625047Z"
    }
   },
   "outputs": [],
   "source": [
    "res = pd.DataFrame({'Tenor':T,'zero rate':r,'default prob':P_default, 'Z_wd':Z_wd,'Z_nd':Z_nd,'r adjust':r_adj,'spread':spread})"
   ]
  },
  {
   "cell_type": "code",
   "execution_count": 42,
   "metadata": {
    "ExecuteTime": {
     "end_time": "2019-11-18T18:39:51.237542Z",
     "start_time": "2019-11-18T18:39:51.222089Z"
    }
   },
   "outputs": [
    {
     "data": {
      "text/html": [
       "<div>\n",
       "<style scoped>\n",
       "    .dataframe tbody tr th:only-of-type {\n",
       "        vertical-align: middle;\n",
       "    }\n",
       "\n",
       "    .dataframe tbody tr th {\n",
       "        vertical-align: top;\n",
       "    }\n",
       "\n",
       "    .dataframe thead th {\n",
       "        text-align: right;\n",
       "    }\n",
       "</style>\n",
       "<table border=\"1\" class=\"dataframe\">\n",
       "  <thead>\n",
       "    <tr style=\"text-align: right;\">\n",
       "      <th></th>\n",
       "      <th>Tenor</th>\n",
       "      <th>zero rate</th>\n",
       "      <th>default prob</th>\n",
       "      <th>Z_wd</th>\n",
       "      <th>Z_nd</th>\n",
       "      <th>r adjust</th>\n",
       "      <th>spread</th>\n",
       "    </tr>\n",
       "  </thead>\n",
       "  <tbody>\n",
       "    <tr>\n",
       "      <td>0</td>\n",
       "      <td>0.25</td>\n",
       "      <td>0.0088</td>\n",
       "      <td>0.0025</td>\n",
       "      <td>0.997802</td>\n",
       "      <td>0.998241</td>\n",
       "      <td>0.007041</td>\n",
       "      <td>0.001759</td>\n",
       "    </tr>\n",
       "    <tr>\n",
       "      <td>1</td>\n",
       "      <td>0.50</td>\n",
       "      <td>0.0088</td>\n",
       "      <td>0.0050</td>\n",
       "      <td>0.995610</td>\n",
       "      <td>0.996797</td>\n",
       "      <td>0.006416</td>\n",
       "      <td>0.002384</td>\n",
       "    </tr>\n",
       "    <tr>\n",
       "      <td>2</td>\n",
       "      <td>0.75</td>\n",
       "      <td>0.0088</td>\n",
       "      <td>0.0075</td>\n",
       "      <td>0.993422</td>\n",
       "      <td>0.995357</td>\n",
       "      <td>0.006206</td>\n",
       "      <td>0.002594</td>\n",
       "    </tr>\n",
       "    <tr>\n",
       "      <td>3</td>\n",
       "      <td>1.00</td>\n",
       "      <td>0.0095</td>\n",
       "      <td>0.0100</td>\n",
       "      <td>0.990545</td>\n",
       "      <td>0.993225</td>\n",
       "      <td>0.006798</td>\n",
       "      <td>0.002702</td>\n",
       "    </tr>\n",
       "    <tr>\n",
       "      <td>4</td>\n",
       "      <td>1.50</td>\n",
       "      <td>0.0100</td>\n",
       "      <td>0.0210</td>\n",
       "      <td>0.985112</td>\n",
       "      <td>0.990023</td>\n",
       "      <td>0.006685</td>\n",
       "      <td>0.003315</td>\n",
       "    </tr>\n",
       "    <tr>\n",
       "      <td>5</td>\n",
       "      <td>2.00</td>\n",
       "      <td>0.0110</td>\n",
       "      <td>0.0330</td>\n",
       "      <td>0.978240</td>\n",
       "      <td>0.986618</td>\n",
       "      <td>0.006736</td>\n",
       "      <td>0.004264</td>\n",
       "    </tr>\n",
       "    <tr>\n",
       "      <td>6</td>\n",
       "      <td>3.00</td>\n",
       "      <td>0.0190</td>\n",
       "      <td>0.0700</td>\n",
       "      <td>0.944594</td>\n",
       "      <td>0.960640</td>\n",
       "      <td>0.013385</td>\n",
       "      <td>0.005615</td>\n",
       "    </tr>\n",
       "    <tr>\n",
       "      <td>7</td>\n",
       "      <td>4.00</td>\n",
       "      <td>0.0280</td>\n",
       "      <td>0.1200</td>\n",
       "      <td>0.894044</td>\n",
       "      <td>0.922490</td>\n",
       "      <td>0.020170</td>\n",
       "      <td>0.007830</td>\n",
       "    </tr>\n",
       "    <tr>\n",
       "      <td>8</td>\n",
       "      <td>5.00</td>\n",
       "      <td>0.0340</td>\n",
       "      <td>0.1875</td>\n",
       "      <td>0.843665</td>\n",
       "      <td>0.888724</td>\n",
       "      <td>0.023594</td>\n",
       "      <td>0.010406</td>\n",
       "    </tr>\n",
       "    <tr>\n",
       "      <td>9</td>\n",
       "      <td>6.00</td>\n",
       "      <td>0.0380</td>\n",
       "      <td>0.2500</td>\n",
       "      <td>0.796124</td>\n",
       "      <td>0.858999</td>\n",
       "      <td>0.025331</td>\n",
       "      <td>0.012669</td>\n",
       "    </tr>\n",
       "    <tr>\n",
       "      <td>10</td>\n",
       "      <td>7.00</td>\n",
       "      <td>0.0400</td>\n",
       "      <td>0.3000</td>\n",
       "      <td>0.755784</td>\n",
       "      <td>0.833746</td>\n",
       "      <td>0.025975</td>\n",
       "      <td>0.014025</td>\n",
       "    </tr>\n",
       "    <tr>\n",
       "      <td>11</td>\n",
       "      <td>8.00</td>\n",
       "      <td>0.0425</td>\n",
       "      <td>0.3500</td>\n",
       "      <td>0.711770</td>\n",
       "      <td>0.802303</td>\n",
       "      <td>0.027534</td>\n",
       "      <td>0.014966</td>\n",
       "    </tr>\n",
       "    <tr>\n",
       "      <td>12</td>\n",
       "      <td>9.00</td>\n",
       "      <td>0.0450</td>\n",
       "      <td>0.4000</td>\n",
       "      <td>0.666977</td>\n",
       "      <td>0.769477</td>\n",
       "      <td>0.029116</td>\n",
       "      <td>0.015884</td>\n",
       "    </tr>\n",
       "    <tr>\n",
       "      <td>13</td>\n",
       "      <td>10.00</td>\n",
       "      <td>0.0500</td>\n",
       "      <td>0.4500</td>\n",
       "      <td>0.606531</td>\n",
       "      <td>0.717579</td>\n",
       "      <td>0.033187</td>\n",
       "      <td>0.016813</td>\n",
       "    </tr>\n",
       "    <tr>\n",
       "      <td>14</td>\n",
       "      <td>12.00</td>\n",
       "      <td>0.0550</td>\n",
       "      <td>0.5200</td>\n",
       "      <td>0.516851</td>\n",
       "      <td>0.632704</td>\n",
       "      <td>0.038146</td>\n",
       "      <td>0.016854</td>\n",
       "    </tr>\n",
       "    <tr>\n",
       "      <td>15</td>\n",
       "      <td>15.00</td>\n",
       "      <td>0.0600</td>\n",
       "      <td>0.6100</td>\n",
       "      <td>0.406570</td>\n",
       "      <td>0.524262</td>\n",
       "      <td>0.043051</td>\n",
       "      <td>0.016949</td>\n",
       "    </tr>\n",
       "    <tr>\n",
       "      <td>16</td>\n",
       "      <td>20.00</td>\n",
       "      <td>0.0650</td>\n",
       "      <td>0.7300</td>\n",
       "      <td>0.272532</td>\n",
       "      <td>0.382545</td>\n",
       "      <td>0.048045</td>\n",
       "      <td>0.016955</td>\n",
       "    </tr>\n",
       "  </tbody>\n",
       "</table>\n",
       "</div>"
      ],
      "text/plain": [
       "    Tenor  zero rate  default prob      Z_wd      Z_nd  r adjust    spread\n",
       "0    0.25     0.0088        0.0025  0.997802  0.998241  0.007041  0.001759\n",
       "1    0.50     0.0088        0.0050  0.995610  0.996797  0.006416  0.002384\n",
       "2    0.75     0.0088        0.0075  0.993422  0.995357  0.006206  0.002594\n",
       "3    1.00     0.0095        0.0100  0.990545  0.993225  0.006798  0.002702\n",
       "4    1.50     0.0100        0.0210  0.985112  0.990023  0.006685  0.003315\n",
       "5    2.00     0.0110        0.0330  0.978240  0.986618  0.006736  0.004264\n",
       "6    3.00     0.0190        0.0700  0.944594  0.960640  0.013385  0.005615\n",
       "7    4.00     0.0280        0.1200  0.894044  0.922490  0.020170  0.007830\n",
       "8    5.00     0.0340        0.1875  0.843665  0.888724  0.023594  0.010406\n",
       "9    6.00     0.0380        0.2500  0.796124  0.858999  0.025331  0.012669\n",
       "10   7.00     0.0400        0.3000  0.755784  0.833746  0.025975  0.014025\n",
       "11   8.00     0.0425        0.3500  0.711770  0.802303  0.027534  0.014966\n",
       "12   9.00     0.0450        0.4000  0.666977  0.769477  0.029116  0.015884\n",
       "13  10.00     0.0500        0.4500  0.606531  0.717579  0.033187  0.016813\n",
       "14  12.00     0.0550        0.5200  0.516851  0.632704  0.038146  0.016854\n",
       "15  15.00     0.0600        0.6100  0.406570  0.524262  0.043051  0.016949\n",
       "16  20.00     0.0650        0.7300  0.272532  0.382545  0.048045  0.016955"
      ]
     },
     "execution_count": 42,
     "metadata": {},
     "output_type": "execute_result"
    }
   ],
   "source": [
    "res"
   ]
  },
  {
   "cell_type": "markdown",
   "metadata": {},
   "source": [
    "Usually the risky and non-risky curve can be observed, and R is unobserved, K is from model. But R is determinated by company, so it could be collect, and K is the parameter we want to calibrate.  \n",
    "\n",
    "Still we can calibrate both R and K, since we have a curve, data points are more than the parameters.\n",
    "\n",
    "In back testing, we can use a portion of time to calibrate and use rest to see the model's performance."
   ]
  }
 ],
 "metadata": {
  "kernelspec": {
   "display_name": "Python 3",
   "language": "python",
   "name": "python3"
  },
  "language_info": {
   "codemirror_mode": {
    "name": "ipython",
    "version": 3
   },
   "file_extension": ".py",
   "mimetype": "text/x-python",
   "name": "python",
   "nbconvert_exporter": "python",
   "pygments_lexer": "ipython3",
   "version": "3.7.4"
  },
  "latex_envs": {
   "LaTeX_envs_menu_present": true,
   "autoclose": false,
   "autocomplete": false,
   "bibliofile": "biblio.bib",
   "cite_by": "apalike",
   "current_citInitial": 1,
   "eqLabelWithNumbers": false,
   "eqNumInitial": 1,
   "hotkeys": {
    "equation": "Ctrl-E",
    "itemize": "Ctrl-I"
   },
   "labels_anchors": false,
   "latex_user_defs": false,
   "report_style_numbering": false,
   "user_envs_cfg": false
  },
  "varInspector": {
   "cols": {
    "lenName": 16,
    "lenType": 16,
    "lenVar": 40
   },
   "kernels_config": {
    "python": {
     "delete_cmd_postfix": "",
     "delete_cmd_prefix": "del ",
     "library": "var_list.py",
     "varRefreshCmd": "print(var_dic_list())"
    },
    "r": {
     "delete_cmd_postfix": ") ",
     "delete_cmd_prefix": "rm(",
     "library": "var_list.r",
     "varRefreshCmd": "cat(var_dic_list()) "
    }
   },
   "types_to_exclude": [
    "module",
    "function",
    "builtin_function_or_method",
    "instance",
    "_Feature"
   ],
   "window_display": false
  }
 },
 "nbformat": 4,
 "nbformat_minor": 2
}
