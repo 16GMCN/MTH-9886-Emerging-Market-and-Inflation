{
 "cells": [
  {
   "cell_type": "markdown",
   "metadata": {},
   "source": [
    "# HW02\n",
    "\n",
    "### Wenxin Shi\n",
    "\n",
    "### Question 1\n",
    "\n",
    "Discuss price and risk differences(corrections) for the non-standard settlinng NDFs compared to the standard one using market data provided in Appendix. Estimate present value correction for a set of Fixing Date to Settlement Date periods provided compared to the standard 2 days offset rule coinciding with Spot Date rule."
   ]
  },
  {
   "cell_type": "code",
   "execution_count": 1,
   "metadata": {},
   "outputs": [],
   "source": [
    "import pandas as pd\n",
    "import numpy as np\n",
    "import matplotlib.pyplot as plt"
   ]
  },
  {
   "cell_type": "code",
   "execution_count": 2,
   "metadata": {},
   "outputs": [],
   "source": [
    "data = pd.DataFrame({'expiry_settlement_date':['2020-11-10', '2020-12-09','2021-01-05','2021-02-05','2021-05-05'],\n",
    "                    'extra_settle_days': [5, 34, 61, 92, 181],\n",
    "                    'MXN_extra_settle_period_fwd_exp_rate': [0.06164, 0.06164, 0.06125, 0.06061, 0.05979],\n",
    "                    'ARS_extra_settle_period_fwd_exp_rate': [0.40706, 0.40706, 0.3995, 0.38709, 0.37106]})"
   ]
  },
  {
   "cell_type": "code",
   "execution_count": 3,
   "metadata": {},
   "outputs": [
    {
     "data": {
      "text/html": [
       "<div>\n",
       "<style scoped>\n",
       "    .dataframe tbody tr th:only-of-type {\n",
       "        vertical-align: middle;\n",
       "    }\n",
       "\n",
       "    .dataframe tbody tr th {\n",
       "        vertical-align: top;\n",
       "    }\n",
       "\n",
       "    .dataframe thead th {\n",
       "        text-align: right;\n",
       "    }\n",
       "</style>\n",
       "<table border=\"1\" class=\"dataframe\">\n",
       "  <thead>\n",
       "    <tr style=\"text-align: right;\">\n",
       "      <th></th>\n",
       "      <th>expiry_settlement_date</th>\n",
       "      <th>extra_settle_days</th>\n",
       "      <th>MXN_extra_settle_period_fwd_exp_rate</th>\n",
       "      <th>ARS_extra_settle_period_fwd_exp_rate</th>\n",
       "    </tr>\n",
       "  </thead>\n",
       "  <tbody>\n",
       "    <tr>\n",
       "      <th>0</th>\n",
       "      <td>2020-11-10</td>\n",
       "      <td>5</td>\n",
       "      <td>0.06164</td>\n",
       "      <td>0.40706</td>\n",
       "    </tr>\n",
       "    <tr>\n",
       "      <th>1</th>\n",
       "      <td>2020-12-09</td>\n",
       "      <td>34</td>\n",
       "      <td>0.06164</td>\n",
       "      <td>0.40706</td>\n",
       "    </tr>\n",
       "    <tr>\n",
       "      <th>2</th>\n",
       "      <td>2021-01-05</td>\n",
       "      <td>61</td>\n",
       "      <td>0.06125</td>\n",
       "      <td>0.39950</td>\n",
       "    </tr>\n",
       "    <tr>\n",
       "      <th>3</th>\n",
       "      <td>2021-02-05</td>\n",
       "      <td>92</td>\n",
       "      <td>0.06061</td>\n",
       "      <td>0.38709</td>\n",
       "    </tr>\n",
       "    <tr>\n",
       "      <th>4</th>\n",
       "      <td>2021-05-05</td>\n",
       "      <td>181</td>\n",
       "      <td>0.05979</td>\n",
       "      <td>0.37106</td>\n",
       "    </tr>\n",
       "  </tbody>\n",
       "</table>\n",
       "</div>"
      ],
      "text/plain": [
       "  expiry_settlement_date  extra_settle_days  \\\n",
       "0             2020-11-10                  5   \n",
       "1             2020-12-09                 34   \n",
       "2             2021-01-05                 61   \n",
       "3             2021-02-05                 92   \n",
       "4             2021-05-05                181   \n",
       "\n",
       "   MXN_extra_settle_period_fwd_exp_rate  ARS_extra_settle_period_fwd_exp_rate  \n",
       "0                               0.06164                               0.40706  \n",
       "1                               0.06164                               0.40706  \n",
       "2                               0.06125                               0.39950  \n",
       "3                               0.06061                               0.38709  \n",
       "4                               0.05979                               0.37106  "
      ]
     },
     "execution_count": 3,
     "metadata": {},
     "output_type": "execute_result"
    }
   ],
   "source": [
    "data"
   ]
  },
  {
   "cell_type": "markdown",
   "metadata": {},
   "source": [
    "Today = 2019-11-04\n",
    "\n",
    "Expiration date = 2020-11-03\n",
    "\n",
    "Expiration settlement date = 2020-11-05\n",
    "\n",
    "Asset = MXN\n",
    "\n",
    "Denominated = ARS"
   ]
  },
  {
   "cell_type": "markdown",
   "metadata": {},
   "source": [
    "### Answer:\n",
    "\n",
    "From the lecture, we know that\n",
    "$$\n",
    "pv^{\\$} = \\frac{[F(T_{fix}) - K]}{S} Z^{CCY}(T_{spot}, T_{Fix} + SpotDateRule) Z^{\\$}(T_{Fix} + SpotDateRule, T_{Fix} + SettleDateOffset)  \n",
    "$$\n",
    "\n",
    "For standard settlinng NDFs: SettleDateOffset = SpotDateRule\n",
    "\n",
    "$$\n",
    "pv^{MXN}_{Non-standard} = \\frac{[F(T_{fix}) - K]}{S} Z^{ARS}(T_{spot}, T_{Fix} + SpotDateRule) Z^{MXN}(T_{Fix} + SpotDateRule, T_{Fix} + SettleDateOffset)\n",
    "$$\n",
    "\n",
    "\n",
    "\\begin{align}\n",
    "pv^{MXN}_{Standard} &= \\frac{[F(T_{fix}) - K]}{S} Z^{ARS}(T_{spot}, T_{Fix} + SpotDateRule) Z^{MXN}(T_{Fix} + SpotDateRule, T_{Fix} + SpotDateRule)\\\\\n",
    "&= \\frac{[F(T_{fix}) - K]}{S} Z^{ARS}(T_{spot}, T_{Fix} + SpotDateRule)\n",
    "\\end{align}\n",
    "\n",
    "\n",
    "Thus,\n",
    "\n",
    "$$\n",
    "\\frac{pv^{MXN}_{Non-standard}}{pv^{MXN}_{Standard}} = Z^{MXN}(T_{Fix} + SpotDateRule, T_{Fix} + SettleDateOffset)\n",
    "$$\n",
    "\n",
    "$$\n",
    "\\tau = SettleDateOffset - SpotDateRule = ExtraSettleDays\n",
    "$$\n",
    "\n",
    "$$\n",
    "Z^{MXN}(T_{Fix} + SpotDateRule, T_{Fix} + SettleDateOffset) = e^{-r\\frac{\\tau}{365}}\n",
    "$$"
   ]
  },
  {
   "cell_type": "code",
   "execution_count": 4,
   "metadata": {
    "scrolled": true
   },
   "outputs": [],
   "source": [
    "data['z_mxn'] = np.exp(-data['MXN_extra_settle_period_fwd_exp_rate'] * data['extra_settle_days'] / 365.0)"
   ]
  },
  {
   "cell_type": "code",
   "execution_count": 5,
   "metadata": {},
   "outputs": [
    {
     "data": {
      "text/html": [
       "<div>\n",
       "<style scoped>\n",
       "    .dataframe tbody tr th:only-of-type {\n",
       "        vertical-align: middle;\n",
       "    }\n",
       "\n",
       "    .dataframe tbody tr th {\n",
       "        vertical-align: top;\n",
       "    }\n",
       "\n",
       "    .dataframe thead th {\n",
       "        text-align: right;\n",
       "    }\n",
       "</style>\n",
       "<table border=\"1\" class=\"dataframe\">\n",
       "  <thead>\n",
       "    <tr style=\"text-align: right;\">\n",
       "      <th></th>\n",
       "      <th>expiry_settlement_date</th>\n",
       "      <th>extra_settle_days</th>\n",
       "      <th>MXN_extra_settle_period_fwd_exp_rate</th>\n",
       "      <th>ARS_extra_settle_period_fwd_exp_rate</th>\n",
       "      <th>z_mxn</th>\n",
       "    </tr>\n",
       "  </thead>\n",
       "  <tbody>\n",
       "    <tr>\n",
       "      <th>0</th>\n",
       "      <td>2020-11-10</td>\n",
       "      <td>5</td>\n",
       "      <td>0.06164</td>\n",
       "      <td>0.40706</td>\n",
       "      <td>0.999156</td>\n",
       "    </tr>\n",
       "    <tr>\n",
       "      <th>1</th>\n",
       "      <td>2020-12-09</td>\n",
       "      <td>34</td>\n",
       "      <td>0.06164</td>\n",
       "      <td>0.40706</td>\n",
       "      <td>0.994275</td>\n",
       "    </tr>\n",
       "    <tr>\n",
       "      <th>2</th>\n",
       "      <td>2021-01-05</td>\n",
       "      <td>61</td>\n",
       "      <td>0.06125</td>\n",
       "      <td>0.39950</td>\n",
       "      <td>0.989816</td>\n",
       "    </tr>\n",
       "    <tr>\n",
       "      <th>3</th>\n",
       "      <td>2021-02-05</td>\n",
       "      <td>92</td>\n",
       "      <td>0.06061</td>\n",
       "      <td>0.38709</td>\n",
       "      <td>0.984839</td>\n",
       "    </tr>\n",
       "    <tr>\n",
       "      <th>4</th>\n",
       "      <td>2021-05-05</td>\n",
       "      <td>181</td>\n",
       "      <td>0.05979</td>\n",
       "      <td>0.37106</td>\n",
       "      <td>0.970786</td>\n",
       "    </tr>\n",
       "  </tbody>\n",
       "</table>\n",
       "</div>"
      ],
      "text/plain": [
       "  expiry_settlement_date  extra_settle_days  \\\n",
       "0             2020-11-10                  5   \n",
       "1             2020-12-09                 34   \n",
       "2             2021-01-05                 61   \n",
       "3             2021-02-05                 92   \n",
       "4             2021-05-05                181   \n",
       "\n",
       "   MXN_extra_settle_period_fwd_exp_rate  ARS_extra_settle_period_fwd_exp_rate  \\\n",
       "0                               0.06164                               0.40706   \n",
       "1                               0.06164                               0.40706   \n",
       "2                               0.06125                               0.39950   \n",
       "3                               0.06061                               0.38709   \n",
       "4                               0.05979                               0.37106   \n",
       "\n",
       "      z_mxn  \n",
       "0  0.999156  \n",
       "1  0.994275  \n",
       "2  0.989816  \n",
       "3  0.984839  \n",
       "4  0.970786  "
      ]
     },
     "execution_count": 5,
     "metadata": {},
     "output_type": "execute_result"
    }
   ],
   "source": [
    "data"
   ]
  },
  {
   "cell_type": "markdown",
   "metadata": {},
   "source": [
    "Compared to the standard one, the present value correction(z_mxn) is decreasing."
   ]
  },
  {
   "cell_type": "markdown",
   "metadata": {},
   "source": [
    "### Question 2\n",
    "\n",
    "Make some numerical estimates of the Convexity Adjustment in Forward Starting NDF using market data provided. Argue the validity limits."
   ]
  },
  {
   "cell_type": "code",
   "execution_count": 6,
   "metadata": {},
   "outputs": [],
   "source": [
    "fx_spot = 3.75\n",
    "fx_multiplier = 10000\n",
    "notional = 1000000\n",
    "\n",
    "data_2 = pd.DataFrame({'strike_set': [1, 4500, 0.994, 2300, 4.20],\n",
    "              'expiry': [2, 6800, 0.981, np.nan, 4.43]})\n",
    "data_2.index = ['tau', 'fx_fwd_points', 'usd_disc_factor', 'strike_offset_fx_points', 'fx_fwd']\n"
   ]
  },
  {
   "cell_type": "code",
   "execution_count": 7,
   "metadata": {},
   "outputs": [
    {
     "data": {
      "text/html": [
       "<div>\n",
       "<style scoped>\n",
       "    .dataframe tbody tr th:only-of-type {\n",
       "        vertical-align: middle;\n",
       "    }\n",
       "\n",
       "    .dataframe tbody tr th {\n",
       "        vertical-align: top;\n",
       "    }\n",
       "\n",
       "    .dataframe thead th {\n",
       "        text-align: right;\n",
       "    }\n",
       "</style>\n",
       "<table border=\"1\" class=\"dataframe\">\n",
       "  <thead>\n",
       "    <tr style=\"text-align: right;\">\n",
       "      <th></th>\n",
       "      <th>strike_set</th>\n",
       "      <th>expiry</th>\n",
       "    </tr>\n",
       "  </thead>\n",
       "  <tbody>\n",
       "    <tr>\n",
       "      <th>tau</th>\n",
       "      <td>1.000</td>\n",
       "      <td>2.000</td>\n",
       "    </tr>\n",
       "    <tr>\n",
       "      <th>fx_fwd_points</th>\n",
       "      <td>4500.000</td>\n",
       "      <td>6800.000</td>\n",
       "    </tr>\n",
       "    <tr>\n",
       "      <th>usd_disc_factor</th>\n",
       "      <td>0.994</td>\n",
       "      <td>0.981</td>\n",
       "    </tr>\n",
       "    <tr>\n",
       "      <th>strike_offset_fx_points</th>\n",
       "      <td>2300.000</td>\n",
       "      <td>NaN</td>\n",
       "    </tr>\n",
       "    <tr>\n",
       "      <th>fx_fwd</th>\n",
       "      <td>4.200</td>\n",
       "      <td>4.430</td>\n",
       "    </tr>\n",
       "  </tbody>\n",
       "</table>\n",
       "</div>"
      ],
      "text/plain": [
       "                         strike_set    expiry\n",
       "tau                           1.000     2.000\n",
       "fx_fwd_points              4500.000  6800.000\n",
       "usd_disc_factor               0.994     0.981\n",
       "strike_offset_fx_points    2300.000       NaN\n",
       "fx_fwd                        4.200     4.430"
      ]
     },
     "execution_count": 7,
     "metadata": {},
     "output_type": "execute_result"
    }
   ],
   "source": [
    "data_2"
   ]
  },
  {
   "cell_type": "markdown",
   "metadata": {},
   "source": [
    "### Answer:\n",
    "\n",
    "From the lecture, we know that:\n",
    "\n",
    "$$\n",
    "\\begin{align}\n",
    "E\\left[\\frac{S(T_{StrikeSet})}{S(T_{StrikeSet}) + \\Delta S}\\right] = 1 - \\frac{\\Delta S}{F(T_{StrikeSet}) + \\Delta S} exp \\left(\\frac{F^2(T_{StrikeSet})}{(F(T_{StrikeSet}) + \\Delta S)^ 2} \\sigma^2 T_{StrikeSet} \\right)\n",
    "\\end{align}\n",
    "$$\n",
    "\n",
    "$$\n",
    "CxtyAdj = exp \\left(\\frac{F^2(T_{StrikeSet})}{(F(T_{StrikeSet}) + \\Delta S)^ 2} \\sigma^2 T_{StrikeSet} \\right)\n",
    "$$"
   ]
  },
  {
   "cell_type": "code",
   "execution_count": 8,
   "metadata": {},
   "outputs": [],
   "source": [
    "sigma = np.linspace(0, 0.5, 10)\n",
    "delta_s = 2300/10000\n",
    "F_TStrikeSet = 4.2"
   ]
  },
  {
   "cell_type": "code",
   "execution_count": 9,
   "metadata": {},
   "outputs": [],
   "source": [
    "cxtyadj = np.exp((F_TStrikeSet / (F_TStrikeSet + delta_s))**2 * sigma ** 2 * F_TStrikeSet) \n",
    "res_2 = 1 - delta_s / (delta_s + F_TStrikeSet)*cxtyadj"
   ]
  },
  {
   "cell_type": "code",
   "execution_count": 10,
   "metadata": {},
   "outputs": [],
   "source": [
    "result = pd.DataFrame([sigma, cxtyadj, res_2],\n",
    "                      index=['sigma', 'cxtyadj', 'res2']).T"
   ]
  },
  {
   "cell_type": "code",
   "execution_count": 11,
   "metadata": {},
   "outputs": [],
   "source": [
    "result['res2_pct_change(bps)'] = result['res2'].pct_change() * 10000"
   ]
  },
  {
   "cell_type": "code",
   "execution_count": 12,
   "metadata": {},
   "outputs": [
    {
     "data": {
      "text/html": [
       "<div>\n",
       "<style scoped>\n",
       "    .dataframe tbody tr th:only-of-type {\n",
       "        vertical-align: middle;\n",
       "    }\n",
       "\n",
       "    .dataframe tbody tr th {\n",
       "        vertical-align: top;\n",
       "    }\n",
       "\n",
       "    .dataframe thead th {\n",
       "        text-align: right;\n",
       "    }\n",
       "</style>\n",
       "<table border=\"1\" class=\"dataframe\">\n",
       "  <thead>\n",
       "    <tr style=\"text-align: right;\">\n",
       "      <th></th>\n",
       "      <th>sigma</th>\n",
       "      <th>cxtyadj</th>\n",
       "      <th>res2</th>\n",
       "      <th>res2_pct_change(bps)</th>\n",
       "    </tr>\n",
       "  </thead>\n",
       "  <tbody>\n",
       "    <tr>\n",
       "      <th>0</th>\n",
       "      <td>0.000000</td>\n",
       "      <td>1.000000</td>\n",
       "      <td>0.948081</td>\n",
       "      <td>NaN</td>\n",
       "    </tr>\n",
       "    <tr>\n",
       "      <th>1</th>\n",
       "      <td>0.055556</td>\n",
       "      <td>1.011720</td>\n",
       "      <td>0.947473</td>\n",
       "      <td>-6.418102</td>\n",
       "    </tr>\n",
       "    <tr>\n",
       "      <th>2</th>\n",
       "      <td>0.111111</td>\n",
       "      <td>1.047711</td>\n",
       "      <td>0.945604</td>\n",
       "      <td>-19.721820</td>\n",
       "    </tr>\n",
       "    <tr>\n",
       "      <th>3</th>\n",
       "      <td>0.166667</td>\n",
       "      <td>1.110563</td>\n",
       "      <td>0.942341</td>\n",
       "      <td>-34.509111</td>\n",
       "    </tr>\n",
       "    <tr>\n",
       "      <th>4</th>\n",
       "      <td>0.222222</td>\n",
       "      <td>1.204940</td>\n",
       "      <td>0.937441</td>\n",
       "      <td>-51.997696</td>\n",
       "    </tr>\n",
       "    <tr>\n",
       "      <th>5</th>\n",
       "      <td>0.277778</td>\n",
       "      <td>1.338161</td>\n",
       "      <td>0.930524</td>\n",
       "      <td>-73.782611</td>\n",
       "    </tr>\n",
       "    <tr>\n",
       "      <th>6</th>\n",
       "      <td>0.333333</td>\n",
       "      <td>1.521151</td>\n",
       "      <td>0.921024</td>\n",
       "      <td>-102.099136</td>\n",
       "    </tr>\n",
       "    <tr>\n",
       "      <th>7</th>\n",
       "      <td>0.388889</td>\n",
       "      <td>1.769932</td>\n",
       "      <td>0.908107</td>\n",
       "      <td>-140.239903</td>\n",
       "    </tr>\n",
       "    <tr>\n",
       "      <th>8</th>\n",
       "      <td>0.444444</td>\n",
       "      <td>2.107957</td>\n",
       "      <td>0.890558</td>\n",
       "      <td>-193.257094</td>\n",
       "    </tr>\n",
       "    <tr>\n",
       "      <th>9</th>\n",
       "      <td>0.500000</td>\n",
       "      <td>2.569730</td>\n",
       "      <td>0.866583</td>\n",
       "      <td>-269.209823</td>\n",
       "    </tr>\n",
       "  </tbody>\n",
       "</table>\n",
       "</div>"
      ],
      "text/plain": [
       "      sigma   cxtyadj      res2  res2_pct_change(bps)\n",
       "0  0.000000  1.000000  0.948081                   NaN\n",
       "1  0.055556  1.011720  0.947473             -6.418102\n",
       "2  0.111111  1.047711  0.945604            -19.721820\n",
       "3  0.166667  1.110563  0.942341            -34.509111\n",
       "4  0.222222  1.204940  0.937441            -51.997696\n",
       "5  0.277778  1.338161  0.930524            -73.782611\n",
       "6  0.333333  1.521151  0.921024           -102.099136\n",
       "7  0.388889  1.769932  0.908107           -140.239903\n",
       "8  0.444444  2.107957  0.890558           -193.257094\n",
       "9  0.500000  2.569730  0.866583           -269.209823"
      ]
     },
     "execution_count": 12,
     "metadata": {},
     "output_type": "execute_result"
    }
   ],
   "source": [
    "result"
   ]
  },
  {
   "cell_type": "code",
   "execution_count": 13,
   "metadata": {},
   "outputs": [
    {
     "data": {
      "image/png": "[encoded data removed]",
      "text/plain": [
       "<Figure size 432x288 with 1 Axes>"
      ]
     },
     "metadata": {
      "needs_background": "light"
     },
     "output_type": "display_data"
    }
   ],
   "source": [
    "plt.plot(result['sigma'], result['cxtyadj'])\n",
    "plt.xlabel('volatility')\n",
    "plt.ylabel('adjusted convexity')\n",
    "plt.show()"
   ]
  },
  {
   "cell_type": "markdown",
   "metadata": {},
   "source": [
    "#### Conclusion\n",
    "\n",
    "From the graph, we can see that, when volatility is less than 20%, the convexity adjustment for the forward starting forward can be neglected, which is around 1 to 1.2. But when the volatility increases, it becomes significant, which makes sense because $cxtyadj \\propto \\exp(\\beta^2)$. That is, for large volatility, the influence will increase more."
   ]
  },
  {
   "cell_type": "markdown",
   "metadata": {},
   "source": [
    "### Question 3 food for thought\n",
    "\n",
    "How much risk can we allow to bleed here? How much of a residual PnL will be lost due to this hedging inefficiency?"
   ]
  },
  {
   "cell_type": "markdown",
   "metadata": {},
   "source": [
    "### Answer:\n",
    "\n",
    "The convexity adjustment should be extremely sensitive to the correlation input as it goes to one, where the true adjustment may be anywhere between 10 and 100 basis points. But in any case, using a wrong volatility estimate maybe not a big deal, which can be proved similarly as question 2."
   ]
  },
  {
   "cell_type": "code",
   "execution_count": null,
   "metadata": {},
   "outputs": [],
   "source": []
  }
 ],
 "metadata": {
  "kernelspec": {
   "display_name": "Python 3",
   "language": "python",
   "name": "python3"
  },
  "language_info": {
   "codemirror_mode": {
    "name": "ipython",
    "version": 3
   },
   "file_extension": ".py",
   "mimetype": "text/x-python",
   "name": "python",
   "nbconvert_exporter": "python",
   "pygments_lexer": "ipython3",
   "version": "3.7.4"
  },
  "latex_envs": {
   "LaTeX_envs_menu_present": true,
   "autoclose": false,
   "autocomplete": false,
   "bibliofile": "biblio.bib",
   "cite_by": "apalike",
   "current_citInitial": 1,
   "eqLabelWithNumbers": false,
   "eqNumInitial": 1,
   "hotkeys": {
    "equation": "Ctrl-E",
    "itemize": "Ctrl-I"
   },
   "labels_anchors": false,
   "latex_user_defs": false,
   "report_style_numbering": false,
   "user_envs_cfg": false
  },
  "varInspector": {
   "cols": {
    "lenName": 16,
    "lenType": 16,
    "lenVar": 40
   },
   "kernels_config": {
    "python": {
     "delete_cmd_postfix": "",
     "delete_cmd_prefix": "del ",
     "library": "var_list.py",
     "varRefreshCmd": "print(var_dic_list())"
    },
    "r": {
     "delete_cmd_postfix": ") ",
     "delete_cmd_prefix": "rm(",
     "library": "var_list.r",
     "varRefreshCmd": "cat(var_dic_list()) "
    }
   },
   "types_to_exclude": [
    "module",
    "function",
    "builtin_function_or_method",
    "instance",
    "_Feature"
   ],
   "window_display": false
  }
 },
 "nbformat": 4,
 "nbformat_minor": 2
}
