{
 "cells": [
  {
   "cell_type": "markdown",
   "metadata": {},
   "source": [
    "## Emerging Market and Inflation HW1\n",
    "\n",
    "### Chenyu Zhao"
   ]
  },
  {
   "cell_type": "markdown",
   "metadata": {},
   "source": [
    "### Q1 Derive variance of two assets exchange warrant"
   ]
  },
  {
   "cell_type": "markdown",
   "metadata": {},
   "source": [
    "#### Answer\n",
    "\n",
    "\\begin{eqnarray}\n",
    "\\pi_0&=&E[Z_{0,T}\\max(B-U,0)]\\\\\n",
    "&=&E[Z_{0,T}U\\max(\\frac BU-1,0)]\n",
    "\\end{eqnarray}\n",
    "\n",
    "Use $U$ as numeraire, we want to find dynamic of $\\frac BU$\n",
    "\n",
    "\\begin{eqnarray}\n",
    "d(\\frac BU)&=&\\frac{1}{U}dB-\\frac{B}{U^2}dU+\\frac{B}{U^3}dUdU-\\frac{1}{U^2}dUdB\\\\\n",
    "&=&(\\mu_B-\\mu_U+\\sigma_U-\\rho\\sigma_U\\sigma_B)\\frac BUdt-\\sigma_U\\frac BU dW_U+\\sigma_B\\frac BU dW_B\\\\\n",
    "&=&(\\mu_B-\\mu_U+\\sigma_U-\\rho\\sigma_U\\sigma_B)\\frac BUdt + \\sqrt{\\sigma_U^2-2\\rho\\sigma_U\\sigma_B+\\sigma_B^2}\\frac BU dW\n",
    "\\end{eqnarray}\n",
    "\n",
    "so we can let $\\hat \\sigma=\\sqrt{\\sigma_U^2-2\\rho\\sigma_U\\sigma_B+\\sigma_B^2}$, then $\\frac BU$ is a geometric Brownian motion. So using numeraire $U$, it is a regular option, with Blach-Schole price $\\frac{B}{U}N(d_1)-N(d_2)$. Convert it to USD numeraire, price is $BN(d_1)-UN(d_2)$, with\n",
    "\n",
    "$$\n",
    "d_1=\\frac{\\log(\\frac BU)+\\frac{\\hat \\sigma^2 T}{2}}{\\hat \\sigma \\sqrt{T}}\n",
    "$$\n",
    "\n",
    "$$\n",
    "d_2 = d_1-\\hat\\sigma^2T\n",
    "$$\n",
    "\n",
    "hence we have two asset variance $\\hat\\sigma^2 = \\sigma_U^2-2\\rho\\sigma_U\\sigma_B+\\sigma_B^2$"
   ]
  },
  {
   "cell_type": "markdown",
   "metadata": {},
   "source": [
    "### Q2 Discuss pricing vanilla CALL Option on a generic Index"
   ]
  },
  {
   "cell_type": "markdown",
   "metadata": {},
   "source": [
    "#### 1. Discuss what model we could use to price this option. Can we start with Black-Sholes?\n",
    "\n",
    "From historical data we can calculate this index, and see if its evolution can be approximate by a geometric Brownian motion. If positive, we can use Black-Scholes to price. \n",
    "\n",
    "I would say it is always a good start to begin with Black-Scholes, because this could at least give us some intuition."
   ]
  },
  {
   "cell_type": "markdown",
   "metadata": {},
   "source": [
    "#### 2. Discuss how could we extract or derive parameters for this model: Index’ volatility? \n",
    "\n",
    "The volatility we use in the model is implied volatility, which is usually higher than realized volatility. \n",
    "\n",
    "If there is other index which is similar to this index and has option market, we can use that index implied volatility to approximate this one's. \n",
    "\n",
    "We could use the volatility when the index is low, because volatility is negative correlated with index's performance. By using the volatility when index is low, we overestimate realized volatility. Since implied volatility is greater than realized volatility, and overestimated realized volatility could be a good indicator of implied volatility."
   ]
  },
  {
   "cell_type": "markdown",
   "metadata": {},
   "source": [
    "#### 3 If we are to deviate from Black-Sholes a bit and to introduce some simple Local Vol as vol for strike, how could we mark this smile and where from?\n",
    "\n",
    "This smile may come from vol of vol. We could match the implied volatility to index's higher moment. Or we could simulate delta hedge and see the cost of this hedge. "
   ]
  },
  {
   "cell_type": "markdown",
   "metadata": {},
   "source": [
    "#### 4. How would we hedge this option if ever traded?\n",
    "\n",
    "If this index could be traded, we can simply trade index for delta hedge. If it cannot, we need to construct the index by its components, which means we need to trade the basket of index components to delta hedge."
   ]
  }
 ],
 "metadata": {
  "kernelspec": {
   "display_name": "Python 3",
   "language": "python",
   "name": "python3"
  },
  "language_info": {
   "codemirror_mode": {
    "name": "ipython",
    "version": 3
   },
   "file_extension": ".py",
   "mimetype": "text/x-python",
   "name": "python",
   "nbconvert_exporter": "python",
   "pygments_lexer": "ipython3",
   "version": "3.7.4"
  },
  "latex_envs": {
   "LaTeX_envs_menu_present": true,
   "autoclose": false,
   "autocomplete": false,
   "bibliofile": "biblio.bib",
   "cite_by": "apalike",
   "current_citInitial": 1,
   "eqLabelWithNumbers": false,
   "eqNumInitial": 1,
   "hotkeys": {
    "equation": "Ctrl-E",
    "itemize": "Ctrl-I"
   },
   "labels_anchors": false,
   "latex_user_defs": false,
   "report_style_numbering": false,
   "user_envs_cfg": false
  },
  "varInspector": {
   "cols": {
    "lenName": 16,
    "lenType": 16,
    "lenVar": 40
   },
   "kernels_config": {
    "python": {
     "delete_cmd_postfix": "",
     "delete_cmd_prefix": "del ",
     "library": "var_list.py",
     "varRefreshCmd": "print(var_dic_list())"
    },
    "r": {
     "delete_cmd_postfix": ") ",
     "delete_cmd_prefix": "rm(",
     "library": "var_list.r",
     "varRefreshCmd": "cat(var_dic_list()) "
    }
   },
   "types_to_exclude": [
    "module",
    "function",
    "builtin_function_or_method",
    "instance",
    "_Feature"
   ],
   "window_display": false
  }
 },
 "nbformat": 4,
 "nbformat_minor": 2
}
